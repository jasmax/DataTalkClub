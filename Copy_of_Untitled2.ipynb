{
  "nbformat": 4,
  "nbformat_minor": 0,
  "metadata": {
    "colab": {
      "provenance": []
    },
    "kernelspec": {
      "name": "python3",
      "display_name": "Python 3"
    },
    "language_info": {
      "name": "python"
    }
  },
  "cells": [
    {
      "cell_type": "code",
      "source": [
        "!wget https://d37ci6vzurychx.cloudfront.net/trip-data/yellow_tripdata_2022-01.parquet"
      ],
      "metadata": {
        "colab": {
          "base_uri": "https://localhost:8080/"
        },
        "id": "Eo5YmbOhoNmf",
        "outputId": "4f08481b-960e-4c48-e3c8-fa691ff7caad"
      },
      "execution_count": 60,
      "outputs": [
        {
          "output_type": "stream",
          "name": "stdout",
          "text": [
            "--2023-05-23 08:01:27--  https://d37ci6vzurychx.cloudfront.net/trip-data/yellow_tripdata_2022-01.parquet\n",
            "Resolving d37ci6vzurychx.cloudfront.net (d37ci6vzurychx.cloudfront.net)... 65.8.245.51, 65.8.245.178, 65.8.245.50, ...\n",
            "Connecting to d37ci6vzurychx.cloudfront.net (d37ci6vzurychx.cloudfront.net)|65.8.245.51|:443... connected.\n",
            "HTTP request sent, awaiting response... 200 OK\n",
            "Length: 38139949 (36M) [application/x-www-form-urlencoded]\n",
            "Saving to: ‘yellow_tripdata_2022-01.parquet.2’\n",
            "\n",
            "yellow_tripdata_202 100%[===================>]  36.37M  79.2MB/s    in 0.5s    \n",
            "\n",
            "2023-05-23 08:01:28 (79.2 MB/s) - ‘yellow_tripdata_2022-01.parquet.2’ saved [38139949/38139949]\n",
            "\n"
          ]
        }
      ]
    },
    {
      "cell_type": "code",
      "source": [
        "!wget https://d37ci6vzurychx.cloudfront.net/trip-data/yellow_tripdata_2022-02.parquet"
      ],
      "metadata": {
        "colab": {
          "base_uri": "https://localhost:8080/"
        },
        "id": "fckczt2coNW3",
        "outputId": "affa920f-ed36-41f7-c5d4-518df2248adb"
      },
      "execution_count": 61,
      "outputs": [
        {
          "output_type": "stream",
          "name": "stdout",
          "text": [
            "--2023-05-23 08:01:28--  https://d37ci6vzurychx.cloudfront.net/trip-data/yellow_tripdata_2022-02.parquet\n",
            "Resolving d37ci6vzurychx.cloudfront.net (d37ci6vzurychx.cloudfront.net)... 65.8.245.51, 65.8.245.178, 65.8.245.50, ...\n",
            "Connecting to d37ci6vzurychx.cloudfront.net (d37ci6vzurychx.cloudfront.net)|65.8.245.51|:443... connected.\n",
            "HTTP request sent, awaiting response... 200 OK\n",
            "Length: 45616512 (44M) [application/x-www-form-urlencoded]\n",
            "Saving to: ‘yellow_tripdata_2022-02.parquet.2’\n",
            "\n",
            "yellow_tripdata_202 100%[===================>]  43.50M  83.8MB/s    in 0.5s    \n",
            "\n",
            "2023-05-23 08:01:29 (83.8 MB/s) - ‘yellow_tripdata_2022-02.parquet.2’ saved [45616512/45616512]\n",
            "\n"
          ]
        }
      ]
    },
    {
      "cell_type": "code",
      "execution_count": 62,
      "metadata": {
        "id": "f88FJ79dm5KK"
      },
      "outputs": [],
      "source": [
        "import pandas as pd\n",
        "from sklearn.feature_extraction import DictVectorizer\n",
        "import numpy as np\n",
        "#import seaborn as sns\n",
        "#import matplotlib.pyplot as plt  "
      ]
    },
    {
      "cell_type": "code",
      "source": [
        "df_jan = pd.read_parquet(\"yellow_tripdata_2022-01.parquet\")\n",
        "df_feb = pd.read_parquet(\"yellow_tripdata_2022-02.parquet\")"
      ],
      "metadata": {
        "id": "BVtXwOy7kbxW"
      },
      "execution_count": 63,
      "outputs": []
    },
    {
      "cell_type": "markdown",
      "source": [
        "Q1. Downloading the data\n",
        "We'll use the same NYC taxi dataset, but instead of \"Green Taxi Trip Records\", we'll use \"Yellow Taxi Trip Records\".\n",
        "\n",
        "Download the data for January and February 2022.\n",
        "\n",
        "Read the data for January. How many columns are there?"
      ],
      "metadata": {
        "id": "C2DDCrh5iuV4"
      }
    },
    {
      "cell_type": "code",
      "source": [
        "df_jan.shape"
      ],
      "metadata": {
        "colab": {
          "base_uri": "https://localhost:8080/"
        },
        "id": "Z1NH95shnA6K",
        "outputId": "127bedb0-f651-4999-b8fc-31b35ac9f296"
      },
      "execution_count": 64,
      "outputs": [
        {
          "output_type": "execute_result",
          "data": {
            "text/plain": [
              "(2463931, 19)"
            ]
          },
          "metadata": {},
          "execution_count": 64
        }
      ]
    },
    {
      "cell_type": "markdown",
      "source": [
        "Q2. Computing duration\n",
        "Now let's compute the duration variable. It should contain the duration of a ride in minutes.\n",
        "\n",
        "What's the standard deviation of the trips duration in January?\n"
      ],
      "metadata": {
        "id": "Xc33BZMVi9VS"
      }
    },
    {
      "cell_type": "code",
      "source": [
        "#Compute duration variable for the two DFs\n",
        "df_jan = df_jan.assign(duration=df_jan[\"tpep_dropoff_datetime\"]-df_jan[\"tpep_pickup_datetime\"])\n",
        "df_feb = df_feb.assign(duration=df_feb[\"tpep_dropoff_datetime\"]-df_feb[\"tpep_pickup_datetime\"])"
      ],
      "metadata": {
        "id": "_SW2N7PPnCoc"
      },
      "execution_count": 65,
      "outputs": []
    },
    {
      "cell_type": "code",
      "source": [
        "#çompute trip duration in minutes\n",
        "df_jan.duration = df_jan.duration.apply(lambda td: td.total_seconds()/60)\n",
        "df_feb.duration = df_feb.duration.apply(lambda td: td.total_seconds()/60)"
      ],
      "metadata": {
        "id": "hPLz_grkGS1c"
      },
      "execution_count": 66,
      "outputs": []
    },
    {
      "cell_type": "code",
      "source": [
        "#Calculate std of duration\n",
        "df_jan.duration.std()\n"
      ],
      "metadata": {
        "colab": {
          "base_uri": "https://localhost:8080/"
        },
        "id": "u-kTt8OWG9lh",
        "outputId": "4695f692-0710-4cc4-ea19-c1f3b2f3a07f"
      },
      "execution_count": 67,
      "outputs": [
        {
          "output_type": "execute_result",
          "data": {
            "text/plain": [
              "46.44530513776802"
            ]
          },
          "metadata": {},
          "execution_count": 67
        }
      ]
    },
    {
      "cell_type": "markdown",
      "source": [
        "Q3. Dropping outliers\n",
        "Next, we need to check the distribution of the duration variable. There are some outliers. Let's remove them and keep only the records where the duration was between 1 and 60 minutes (inclusive).\n",
        "\n",
        "What fraction of the records left after you dropped the outliers?"
      ],
      "metadata": {
        "id": "8ymArohemxr9"
      }
    },
    {
      "cell_type": "code",
      "source": [
        "#Count percentage of duration outliers\n",
        "outliers_jan = (df_jan[(df_jan[\"duration\"]>=1) & (df_jan[\"duration\"]<=60)][\"duration\"].count()/df_jan[\"duration\"].count())*100\n",
        "outliers_jan"
      ],
      "metadata": {
        "colab": {
          "base_uri": "https://localhost:8080/"
        },
        "id": "0uh5P2_1HM7U",
        "outputId": "65ea6454-87d8-40a2-f60d-aa133eafda2b"
      },
      "execution_count": 68,
      "outputs": [
        {
          "output_type": "execute_result",
          "data": {
            "text/plain": [
              "98.27547930522405"
            ]
          },
          "metadata": {},
          "execution_count": 68
        }
      ]
    },
    {
      "cell_type": "code",
      "source": [
        "#Remove outliers\n",
        "df_jan_no_outliers = df_jan[(df_jan[\"duration\"]>=1) & (df_jan[\"duration\"]<=60)]\n",
        "df_jan_no_outliers.shape"
      ],
      "metadata": {
        "colab": {
          "base_uri": "https://localhost:8080/"
        },
        "id": "_3Dp0Su9HMt0",
        "outputId": "a44523cb-216c-4a74-c651-503149b978f7"
      },
      "execution_count": 69,
      "outputs": [
        {
          "output_type": "execute_result",
          "data": {
            "text/plain": [
              "(2421440, 20)"
            ]
          },
          "metadata": {},
          "execution_count": 69
        }
      ]
    },
    {
      "cell_type": "code",
      "source": [
        "#Number of records to be removed which are not between 1 and 60mins\n",
        "df_jan_removed = df_jan[(df_jan.duration<1)|(df_jan.duration >60)]\n",
        "df_jan_removed.shape"
      ],
      "metadata": {
        "colab": {
          "base_uri": "https://localhost:8080/"
        },
        "id": "JFxzWbWgnAwy",
        "outputId": "d0556765-01af-488b-8dc6-d662f29df226"
      },
      "execution_count": 70,
      "outputs": [
        {
          "output_type": "execute_result",
          "data": {
            "text/plain": [
              "(42491, 20)"
            ]
          },
          "metadata": {},
          "execution_count": 70
        }
      ]
    },
    {
      "cell_type": "markdown",
      "source": [
        "Q4. One-hot encoding\n",
        "Let's apply one-hot encoding to the pickup and dropoff location IDs. We'll use only these two features for our model.\n",
        "\n",
        "Turn the dataframe into a list of dictionaries\n",
        "Fit a dictionary vectorizer\n",
        "Get a feature matrix from it\n",
        "What's the dimensionality of this matrix (number of columns)?"
      ],
      "metadata": {
        "id": "TBTRk96rnHyH"
      }
    },
    {
      "cell_type": "code",
      "source": [
        "# Subset the DataFrame\n",
        "subset_data = df_jan[['PULocationID', 'DOLocationID']]"
      ],
      "metadata": {
        "id": "uPwPRY60g9O_"
      },
      "execution_count": 71,
      "outputs": []
    },
    {
      "cell_type": "code",
      "source": [
        "# Convert DataFrame to list of dictionaries\n",
        "dict_list = subset_data.to_dict(orient='records')"
      ],
      "metadata": {
        "id": "mMAUfl9Ag-zh"
      },
      "execution_count": 72,
      "outputs": []
    },
    {
      "cell_type": "code",
      "source": [
        "# Fit a dictionary vectorizer\n",
        "vectorizer = DictVectorizer(sparse=False)\n",
        "vectorizer.fit(dict_list)"
      ],
      "metadata": {
        "colab": {
          "base_uri": "https://localhost:8080/",
          "height": 74
        },
        "id": "Fu_3Z2KVg-Tn",
        "outputId": "2fbd03e1-2460-41f0-e167-5c6b9094c11c"
      },
      "execution_count": 73,
      "outputs": [
        {
          "output_type": "execute_result",
          "data": {
            "text/plain": [
              "DictVectorizer(sparse=False)"
            ],
            "text/html": [
              "<style>#sk-container-id-2 {color: black;background-color: white;}#sk-container-id-2 pre{padding: 0;}#sk-container-id-2 div.sk-toggleable {background-color: white;}#sk-container-id-2 label.sk-toggleable__label {cursor: pointer;display: block;width: 100%;margin-bottom: 0;padding: 0.3em;box-sizing: border-box;text-align: center;}#sk-container-id-2 label.sk-toggleable__label-arrow:before {content: \"▸\";float: left;margin-right: 0.25em;color: #696969;}#sk-container-id-2 label.sk-toggleable__label-arrow:hover:before {color: black;}#sk-container-id-2 div.sk-estimator:hover label.sk-toggleable__label-arrow:before {color: black;}#sk-container-id-2 div.sk-toggleable__content {max-height: 0;max-width: 0;overflow: hidden;text-align: left;background-color: #f0f8ff;}#sk-container-id-2 div.sk-toggleable__content pre {margin: 0.2em;color: black;border-radius: 0.25em;background-color: #f0f8ff;}#sk-container-id-2 input.sk-toggleable__control:checked~div.sk-toggleable__content {max-height: 200px;max-width: 100%;overflow: auto;}#sk-container-id-2 input.sk-toggleable__control:checked~label.sk-toggleable__label-arrow:before {content: \"▾\";}#sk-container-id-2 div.sk-estimator input.sk-toggleable__control:checked~label.sk-toggleable__label {background-color: #d4ebff;}#sk-container-id-2 div.sk-label input.sk-toggleable__control:checked~label.sk-toggleable__label {background-color: #d4ebff;}#sk-container-id-2 input.sk-hidden--visually {border: 0;clip: rect(1px 1px 1px 1px);clip: rect(1px, 1px, 1px, 1px);height: 1px;margin: -1px;overflow: hidden;padding: 0;position: absolute;width: 1px;}#sk-container-id-2 div.sk-estimator {font-family: monospace;background-color: #f0f8ff;border: 1px dotted black;border-radius: 0.25em;box-sizing: border-box;margin-bottom: 0.5em;}#sk-container-id-2 div.sk-estimator:hover {background-color: #d4ebff;}#sk-container-id-2 div.sk-parallel-item::after {content: \"\";width: 100%;border-bottom: 1px solid gray;flex-grow: 1;}#sk-container-id-2 div.sk-label:hover label.sk-toggleable__label {background-color: #d4ebff;}#sk-container-id-2 div.sk-serial::before {content: \"\";position: absolute;border-left: 1px solid gray;box-sizing: border-box;top: 0;bottom: 0;left: 50%;z-index: 0;}#sk-container-id-2 div.sk-serial {display: flex;flex-direction: column;align-items: center;background-color: white;padding-right: 0.2em;padding-left: 0.2em;position: relative;}#sk-container-id-2 div.sk-item {position: relative;z-index: 1;}#sk-container-id-2 div.sk-parallel {display: flex;align-items: stretch;justify-content: center;background-color: white;position: relative;}#sk-container-id-2 div.sk-item::before, #sk-container-id-2 div.sk-parallel-item::before {content: \"\";position: absolute;border-left: 1px solid gray;box-sizing: border-box;top: 0;bottom: 0;left: 50%;z-index: -1;}#sk-container-id-2 div.sk-parallel-item {display: flex;flex-direction: column;z-index: 1;position: relative;background-color: white;}#sk-container-id-2 div.sk-parallel-item:first-child::after {align-self: flex-end;width: 50%;}#sk-container-id-2 div.sk-parallel-item:last-child::after {align-self: flex-start;width: 50%;}#sk-container-id-2 div.sk-parallel-item:only-child::after {width: 0;}#sk-container-id-2 div.sk-dashed-wrapped {border: 1px dashed gray;margin: 0 0.4em 0.5em 0.4em;box-sizing: border-box;padding-bottom: 0.4em;background-color: white;}#sk-container-id-2 div.sk-label label {font-family: monospace;font-weight: bold;display: inline-block;line-height: 1.2em;}#sk-container-id-2 div.sk-label-container {text-align: center;}#sk-container-id-2 div.sk-container {/* jupyter's `normalize.less` sets `[hidden] { display: none; }` but bootstrap.min.css set `[hidden] { display: none !important; }` so we also need the `!important` here to be able to override the default hidden behavior on the sphinx rendered scikit-learn.org. See: https://github.com/scikit-learn/scikit-learn/issues/21755 */display: inline-block !important;position: relative;}#sk-container-id-2 div.sk-text-repr-fallback {display: none;}</style><div id=\"sk-container-id-2\" class=\"sk-top-container\"><div class=\"sk-text-repr-fallback\"><pre>DictVectorizer(sparse=False)</pre><b>In a Jupyter environment, please rerun this cell to show the HTML representation or trust the notebook. <br />On GitHub, the HTML representation is unable to render, please try loading this page with nbviewer.org.</b></div><div class=\"sk-container\" hidden><div class=\"sk-item\"><div class=\"sk-estimator sk-toggleable\"><input class=\"sk-toggleable__control sk-hidden--visually\" id=\"sk-estimator-id-2\" type=\"checkbox\" checked><label for=\"sk-estimator-id-2\" class=\"sk-toggleable__label sk-toggleable__label-arrow\">DictVectorizer</label><div class=\"sk-toggleable__content\"><pre>DictVectorizer(sparse=False)</pre></div></div></div></div></div>"
            ]
          },
          "metadata": {},
          "execution_count": 73
        }
      ]
    },
    {
      "cell_type": "code",
      "source": [
        "# Get the feature matrix\n",
        "feature_matrix = vectorizer.transform(dict_list)\n",
        "feature_matrix.shape[1]\n"
      ],
      "metadata": {
        "colab": {
          "base_uri": "https://localhost:8080/"
        },
        "id": "mSzK7FWlg-IX",
        "outputId": "bdbfd75a-d4ea-4fa0-f852-e35592b35c6d"
      },
      "execution_count": 74,
      "outputs": [
        {
          "output_type": "execute_result",
          "data": {
            "text/plain": [
              "2"
            ]
          },
          "metadata": {},
          "execution_count": 74
        }
      ]
    },
    {
      "cell_type": "code",
      "source": [
        "# Get the number of columns\n",
        "num_columns = feature_matrix.shape[1]\n",
        "num_columns"
      ],
      "metadata": {
        "colab": {
          "base_uri": "https://localhost:8080/"
        },
        "id": "oD_9wxp5g97s",
        "outputId": "ee87d958-7c17-463f-db2e-c9b7684d58bf"
      },
      "execution_count": 75,
      "outputs": [
        {
          "output_type": "execute_result",
          "data": {
            "text/plain": [
              "2"
            ]
          },
          "metadata": {},
          "execution_count": 75
        }
      ]
    },
    {
      "cell_type": "code",
      "source": [
        "#count of missing values\n",
        "df_jan.isnull().sum(axis = 0)"
      ],
      "metadata": {
        "colab": {
          "base_uri": "https://localhost:8080/"
        },
        "id": "ggMLSBNsnAnr",
        "outputId": "df92e264-4450-4183-ea3f-a7af1339aa3c"
      },
      "execution_count": 76,
      "outputs": [
        {
          "output_type": "execute_result",
          "data": {
            "text/plain": [
              "VendorID                     0\n",
              "tpep_pickup_datetime         0\n",
              "tpep_dropoff_datetime        0\n",
              "passenger_count          71503\n",
              "trip_distance                0\n",
              "RatecodeID               71503\n",
              "store_and_fwd_flag       71503\n",
              "PULocationID                 0\n",
              "DOLocationID                 0\n",
              "payment_type                 0\n",
              "fare_amount                  0\n",
              "extra                        0\n",
              "mta_tax                      0\n",
              "tip_amount                   0\n",
              "tolls_amount                 0\n",
              "improvement_surcharge        0\n",
              "total_amount                 0\n",
              "congestion_surcharge     71503\n",
              "airport_fee              71503\n",
              "duration                     0\n",
              "dtype: int64"
            ]
          },
          "metadata": {},
          "execution_count": 76
        }
      ]
    },
    {
      "cell_type": "code",
      "source": [
        "#calculate the missing values\n",
        "miss_val_percent = 100 * df_jan.isnull().sum() / len(df_jan)\n",
        "miss_val_percent"
      ],
      "metadata": {
        "colab": {
          "base_uri": "https://localhost:8080/"
        },
        "id": "zXU_PbkpnAkS",
        "outputId": "e50e3b2b-7b6a-49da-d709-718a37292a4f"
      },
      "execution_count": 77,
      "outputs": [
        {
          "output_type": "execute_result",
          "data": {
            "text/plain": [
              "VendorID                 0.000000\n",
              "tpep_pickup_datetime     0.000000\n",
              "tpep_dropoff_datetime    0.000000\n",
              "passenger_count          2.901989\n",
              "trip_distance            0.000000\n",
              "RatecodeID               2.901989\n",
              "store_and_fwd_flag       2.901989\n",
              "PULocationID             0.000000\n",
              "DOLocationID             0.000000\n",
              "payment_type             0.000000\n",
              "fare_amount              0.000000\n",
              "extra                    0.000000\n",
              "mta_tax                  0.000000\n",
              "tip_amount               0.000000\n",
              "tolls_amount             0.000000\n",
              "improvement_surcharge    0.000000\n",
              "total_amount             0.000000\n",
              "congestion_surcharge     2.901989\n",
              "airport_fee              2.901989\n",
              "duration                 0.000000\n",
              "dtype: float64"
            ]
          },
          "metadata": {},
          "execution_count": 77
        }
      ]
    },
    {
      "cell_type": "code",
      "source": [
        "#replace the missing values with -1\n",
        "df_jan = df_jan.replace(np.nan,-1)"
      ],
      "metadata": {
        "id": "KDKqLzXonAg2"
      },
      "execution_count": 78,
      "outputs": []
    },
    {
      "cell_type": "code",
      "source": [
        "PUmiss_val_percent = 100 * len(df_jan[df_jan.PULocationID == -1.0]) / len(df_jan)\n",
        "PUmiss_val_percent"
      ],
      "metadata": {
        "colab": {
          "base_uri": "https://localhost:8080/"
        },
        "id": "g2EkjLCVnAdb",
        "outputId": "8f1e0b8e-f1de-433f-e5f3-bf6ca6096e6e"
      },
      "execution_count": 79,
      "outputs": [
        {
          "output_type": "execute_result",
          "data": {
            "text/plain": [
              "0.0"
            ]
          },
          "metadata": {},
          "execution_count": 79
        }
      ]
    },
    {
      "cell_type": "code",
      "source": [
        "DOmiss_val_percent = 100 * len(df_jan[df_jan.DOLocationID == -1.0]) / len(df_jan)\n",
        "DOmiss_val_percent"
      ],
      "metadata": {
        "colab": {
          "base_uri": "https://localhost:8080/"
        },
        "id": "yFxpyOzYnAaL",
        "outputId": "88c8c1dc-20cc-4f7f-a235-5eeaf689b2f3"
      },
      "execution_count": 80,
      "outputs": [
        {
          "output_type": "execute_result",
          "data": {
            "text/plain": [
              "0.0"
            ]
          },
          "metadata": {},
          "execution_count": 80
        }
      ]
    },
    {
      "cell_type": "code",
      "source": [
        "from sklearn.feature_extraction import DictVectorizer\n",
        "from sklearn.linear_model import LinearRegression\n",
        "from sklearn.metrics import mean_squared_error"
      ],
      "metadata": {
        "id": "_5o5uNQBnAW0"
      },
      "execution_count": 81,
      "outputs": []
    },
    {
      "cell_type": "code",
      "source": [
        "def read_dataframe(filename):\n",
        "    df = pd.read_parquet(filename)\n",
        "    #çompute trip duration in minutes\n",
        "    df[\"duration\"] = df.tpep_dropoff_datetime - df.tpep_pickup_datetime\n",
        "    df.duration = df.duration.apply(lambda td: td.total_seconds()/60)\n",
        "\n",
        "    #Select all trips less than 60\n",
        "    df = df[(df.duration>=1) & (df.duration <=60)]\n",
        "    \n",
        "    #fill null values with -1\n",
        "    df = df.replace(np.nan,-1)\n",
        "\n",
        "    #Extract the most useful categorical and numerical variables from our dataset\n",
        "    categorical = ['PULocationID','DOLocationID']\n",
        "\n",
        "    #Convert numerical variables to categorical variables\n",
        "    df[categorical] = df[categorical].astype(str)\n",
        "    \n",
        "    return df"
      ],
      "metadata": {
        "id": "eBHUYrrnnATf"
      },
      "execution_count": 82,
      "outputs": []
    },
    {
      "cell_type": "code",
      "source": [
        "df_train = read_dataframe(\"yellow_tripdata_2022-01.parquet\")\n",
        "df_val = read_dataframe(\"yellow_tripdata_2022-02.parquet\")\n",
        "df_train.shape, df_val.shape"
      ],
      "metadata": {
        "colab": {
          "base_uri": "https://localhost:8080/"
        },
        "id": "BsxiLv6znAQM",
        "outputId": "fe8870e1-32b1-4333-a7a9-9c9963584682"
      },
      "execution_count": 83,
      "outputs": [
        {
          "output_type": "execute_result",
          "data": {
            "text/plain": [
              "((2421440, 20), (2918187, 20))"
            ]
          },
          "metadata": {},
          "execution_count": 83
        }
      ]
    },
    {
      "cell_type": "code",
      "source": [
        "#Extract the most useful categorical variables from our dataset\n",
        "categorical = ['PULocationID','DOLocationID']\n",
        "\n",
        "#perform data vectorization\n",
        "dv = DictVectorizer()"
      ],
      "metadata": {
        "id": "gVQiUat8nAM7"
      },
      "execution_count": 84,
      "outputs": []
    },
    {
      "cell_type": "code",
      "source": [
        "#Convert our selected features to dictionaries for our vectorizers to work and fit\n",
        "train_dicts = df_train[categorical].to_dict(orient='records')\n",
        "X_train = dv.fit_transform(train_dicts)\n",
        "X_train.shape"
      ],
      "metadata": {
        "colab": {
          "base_uri": "https://localhost:8080/"
        },
        "id": "W1r_V81-nAJq",
        "outputId": "1f2ceb0f-ecd3-4cce-ae4a-654fd84b4d06"
      },
      "execution_count": 85,
      "outputs": [
        {
          "output_type": "execute_result",
          "data": {
            "text/plain": [
              "(2421440, 515)"
            ]
          },
          "metadata": {},
          "execution_count": 85
        }
      ]
    },
    {
      "cell_type": "code",
      "source": [
        "#Convert our selected features to dictionaries for our vectorizers to work\n",
        "val_dicts = df_val[categorical].to_dict(orient='records')\n",
        "X_val = dv.transform(val_dicts)"
      ],
      "metadata": {
        "id": "fX7rhHNcnAGL"
      },
      "execution_count": 86,
      "outputs": []
    },
    {
      "cell_type": "code",
      "source": [
        "target = 'duration'\n",
        "y_train = df_train[target].values\n",
        "y_val = df_val[target].values"
      ],
      "metadata": {
        "id": "iJTpXoPVnACJ"
      },
      "execution_count": 87,
      "outputs": []
    },
    {
      "cell_type": "markdown",
      "source": [
        "Q5. Training a model\n",
        "Now let's use the feature matrix from the previous step to train a model.\n",
        "\n",
        "Train a plain linear regression model with default parameters\n",
        "Calculate the RMSE of the model on the training data\n",
        "What's the RMSE on train?"
      ],
      "metadata": {
        "id": "2IhowQINnqxQ"
      }
    },
    {
      "cell_type": "code",
      "source": [
        "#Apply Linear regression on Training dataset\n",
        "\n",
        "#train our model\n",
        "lr = LinearRegression()\n",
        "lr.fit(X_train, y_train)\n",
        "\n",
        "#model prediction\n",
        "y_pred = lr.predict(X_train)\n",
        "\n",
        "#evaluate our model\n",
        "rmse_train = mean_squared_error(y_train, y_pred, squared=False)\n",
        "rmse_train"
      ],
      "metadata": {
        "colab": {
          "base_uri": "https://localhost:8080/"
        },
        "id": "n1b35Klqm_-L",
        "outputId": "88b51e5b-14c7-43b8-e120-93b75cff3376"
      },
      "execution_count": 88,
      "outputs": [
        {
          "output_type": "execute_result",
          "data": {
            "text/plain": [
              "6.986190742248472"
            ]
          },
          "metadata": {},
          "execution_count": 88
        }
      ]
    },
    {
      "cell_type": "markdown",
      "source": [
        "Q6. Evaluating the model\n",
        "Now let's apply this model to the validation dataset (February 2022).\n",
        "\n",
        "What's the RMSE on validation?"
      ],
      "metadata": {
        "id": "c13a09_6nxx4"
      }
    },
    {
      "cell_type": "code",
      "source": [
        "#Apply Linear regression on Validation dataset\n",
        "\n",
        "#model prediction\n",
        "y_pred = lr.predict(X_val)\n",
        "\n",
        "#evaluate our model\n",
        "rmse_val = mean_squared_error(y_val, y_pred, squared=False)\n",
        "\n",
        "rmse_val"
      ],
      "metadata": {
        "colab": {
          "base_uri": "https://localhost:8080/"
        },
        "id": "3DpSxYD-oDGK",
        "outputId": "15deb888-e003-445c-8c16-074a027aad4c"
      },
      "execution_count": 89,
      "outputs": [
        {
          "output_type": "execute_result",
          "data": {
            "text/plain": [
              "7.78640662117552"
            ]
          },
          "metadata": {},
          "execution_count": 89
        }
      ]
    }
  ]
}